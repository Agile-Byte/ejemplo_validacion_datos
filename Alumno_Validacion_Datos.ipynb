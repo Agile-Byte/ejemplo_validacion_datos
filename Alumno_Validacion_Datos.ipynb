{
 "cells": [
  {
   "cell_type": "markdown",
   "metadata": {},
   "source": [
    "## Validación de datos"
   ]
  },
  {
   "cell_type": "raw",
   "metadata": {},
   "source": [
    "Muchas veces montamos un proceso autómatico que trabaja con grandes volúmenes de información y necesitamos comprobar si el resultado está bien.\n",
    "Imagina un cálculo automátizado, la salida de un modelo, una consulta de web scrapping que luego procesa los datos... \n",
    "En todos ellos, una vez tenemos el código funcionando, necesitaremos comprobar que devuelve el resultado que queremos y en caso de que algo no lo haga así. ¡Tenemos que saber profundizar en los datos! \n",
    "\n",
    "Para resolver un problema en el código tenemos que responder a las tres preguntas:\n",
    "¿Que hace mal?\n",
    "¿Por qué hace una operación mal?\n",
    "¿Dónde está sucediendo?\n",
    "\n",
    "Las dos primeras se responden sumergíendonos en los números para entender el problema y asi luego buscar en el código dónde se generan esas lineas.\n",
    "\n",
    "Porque grábate esto a fuego: El código siempre funciona de acuerdo a lo escrito, el problema es que no está escrito bien\n"
   ]
  },
  {
   "cell_type": "markdown",
   "metadata": {},
   "source": [
    "Vamos a hacer ahora una clase práctica de navegacion en los datos, compararemos dos dfs donde uno es un espejo del otro con errorcillos para intentar encontrar esos errores, esas líneas diferentes que luego nos conducirian en el código a buscar la sentencia corrupta"
   ]
  },
  {
   "cell_type": "markdown",
   "metadata": {},
   "source": [
    "#### Importamos las librerías necesarias para hacer el análisis"
   ]
  },
  {
   "cell_type": "code",
   "execution_count": 1,
   "metadata": {},
   "outputs": [],
   "source": []
  },
  {
   "cell_type": "markdown",
   "metadata": {},
   "source": [
    "#### Cargamos el dataset"
   ]
  },
  {
   "cell_type": "markdown",
   "metadata": {},
   "source": [
    "Crea dos dataframes, uno df_test y el otro df_output. El primero debe leer la hoja test del excel Validación_datos_example y el segundo la hoja Output del mismo excel"
   ]
  },
  {
   "cell_type": "code",
   "execution_count": null,
   "metadata": {},
   "outputs": [],
   "source": []
  },
  {
   "cell_type": "code",
   "execution_count": 3,
   "metadata": {},
   "outputs": [],
   "source": []
  },
  {
   "cell_type": "markdown",
   "metadata": {},
   "source": [
    "#### Asegurarse de que test y output tienen los mismos formatos"
   ]
  },
  {
   "cell_type": "code",
   "execution_count": 1,
   "metadata": {},
   "outputs": [],
   "source": [
    "# Empezamos viendo las primeras filas de los dfs para ver a simple vista si tienen el mismo aspecto\n"
   ]
  },
  {
   "cell_type": "code",
   "execution_count": null,
   "metadata": {},
   "outputs": [],
   "source": []
  },
  {
   "cell_type": "markdown",
   "metadata": {},
   "source": [
    "#### Analizar las columnas categóricas por valores únicos en test vs output"
   ]
  },
  {
   "cell_type": "code",
   "execution_count": 2,
   "metadata": {},
   "outputs": [],
   "source": [
    "# miramos todos los valores únicos de las columnas categóricas\n",
    "# Lo primero es saber cuales son las cátegoricas, podemos verlo a simple vista , o filtrar el df por el tipo de columna \n"
   ]
  },
  {
   "cell_type": "code",
   "execution_count": null,
   "metadata": {},
   "outputs": [],
   "source": [
    "\n",
    "    "
   ]
  },
  {
   "cell_type": "code",
   "execution_count": 3,
   "metadata": {},
   "outputs": [],
   "source": [
    "# como son iguales las columnas, ahora recorremos los diccionarios para ver las desigualdades dentro de cada columna\n",
    "# imprimimos el nombre de la columna y los valores diferentes de esa columna entre el df_output y el df_test\n"
   ]
  },
  {
   "cell_type": "markdown",
   "metadata": {},
   "source": [
    "Vemos que las diferencias son los valores nan, eso es porque en python nan != nan, por lo que podriamos tratar los nans y luego repetir, o sencillamente ya sabemos que no hay valores unicos diferentes entre las columnas categóricas de ambos dfs"
   ]
  },
  {
   "cell_type": "code",
   "execution_count": 4,
   "metadata": {},
   "outputs": [],
   "source": [
    "# Comprobamos si el tipo de datos de las columnas es igual\n"
   ]
  },
  {
   "cell_type": "markdown",
   "metadata": {},
   "source": [
    "A simple vista parece el mismo df"
   ]
  },
  {
   "cell_type": "markdown",
   "metadata": {},
   "source": [
    "#### Analizar las columnas numéricas en test vs output"
   ]
  },
  {
   "cell_type": "code",
   "execution_count": 5,
   "metadata": {},
   "outputs": [],
   "source": [
    "# Comprobamos tambien si el tamaño de los dfs y los nulos son iguales\n"
   ]
  },
  {
   "cell_type": "markdown",
   "metadata": {},
   "source": [
    "Hay que fijarse pero vemos que hay menos nulls en el numero de puertas de la salida que en el de test"
   ]
  },
  {
   "cell_type": "code",
   "execution_count": 6,
   "metadata": {},
   "outputs": [],
   "source": [
    "# Comprobamos si los valores numéricos son iguales mirando sus variables estadísticas\n",
    "# Si todos los valores son iguales, es probable que la salida de nuestro proceso sea correcta y dé lo que esperábamos\n"
   ]
  },
  {
   "cell_type": "markdown",
   "metadata": {},
   "source": [
    "En el precio bailan la media y en la desviación estándar"
   ]
  },
  {
   "cell_type": "code",
   "execution_count": 8,
   "metadata": {},
   "outputs": [],
   "source": [
    "# Vamos a ver la media que es algo que no muestra el describe de serie\n"
   ]
  },
  {
   "cell_type": "markdown",
   "metadata": {},
   "source": [
    "Algo no está bien, nos toca buscar que es, vamos a entrar en los datos poco a poco"
   ]
  },
  {
   "cell_type": "markdown",
   "metadata": {},
   "source": [
    "#### Comparamos los dataframes para buscar registros difrentes en ellos, de esa manera si son pocos sacamos las diferencias"
   ]
  },
  {
   "cell_type": "code",
   "execution_count": 9,
   "metadata": {},
   "outputs": [],
   "source": [
    "# Para eso los mergeamos marcando las lineas con el indicador de si esa fila está en los dos, en la izquierda o en la derecha\n"
   ]
  },
  {
   "cell_type": "code",
   "execution_count": null,
   "metadata": {},
   "outputs": [],
   "source": []
  },
  {
   "cell_type": "code",
   "execution_count": 10,
   "metadata": {},
   "outputs": [],
   "source": [
    "# Y las unimos en un solo df para verlas juntas y ordenadas por las diferencias\n"
   ]
  },
  {
   "cell_type": "markdown",
   "metadata": {},
   "source": [
    "Otra manera más rápida seria unir los dos dfs y quitar las lineas duplicadas, asi sólo nos quedarian las diferentes"
   ]
  },
  {
   "cell_type": "code",
   "execution_count": null,
   "metadata": {},
   "outputs": [],
   "source": []
  },
  {
   "cell_type": "markdown",
   "metadata": {},
   "source": [
    "Este segundo método tendria el ligerísimo inconveniente de que no sabes que registro viene de cada lado"
   ]
  },
  {
   "cell_type": "markdown",
   "metadata": {},
   "source": [
    "Ahora nos tocaría filtrar las diferencias para aislar un caso determinado, luego buscar en el código dónde se crea esa línea y por último, seguirla para ver dónde se realizar la operación o cálculo erróneo."
   ]
  },
  {
   "cell_type": "code",
   "execution_count": null,
   "metadata": {},
   "outputs": [],
   "source": []
  },
  {
   "cell_type": "markdown",
   "metadata": {},
   "source": [
    "Sea como fuere, el procedimiento para encontrar las diferencias y aislarlas es siempre el que hemos visto, iterando hasta que el resultado \"output\" sea justo lo que esperabamos , tengamos un test con el que compararnos o no."
   ]
  },
  {
   "cell_type": "markdown",
   "metadata": {},
   "source": [
    " "
   ]
  },
  {
   "cell_type": "markdown",
   "metadata": {},
   "source": [
    "Tambien existe una aproximación diferente, donde se agrupan los valores y se va profundizando progresivamente para ver buscar la línea exacta que esta mal.\n",
    "\n",
    "Esto es más lento que comparar los dos dfs como hemos hecho antes pero por el camino, al ir paso a paso, muchas veces detectamos problemas que se explican mejor con los valores agrupados que linea a linea. \n",
    "\n",
    "Por ejemplo si se realizan calculos agrupados por marca o por modelo , la linea quizás no nos refleje todo el problema.\n",
    "\n",
    "Vamos a ver ahora cómo hilar muy fino, yendo de menos detalle a más para buscar valores diferentes entre los dos dataframes artesanalmente"
   ]
  },
  {
   "cell_type": "markdown",
   "metadata": {},
   "source": [
    "#### Agrupamos datos y buscamos los problemas"
   ]
  },
  {
   "cell_type": "markdown",
   "metadata": {},
   "source": [
    "De mayor a menor: Se agrupan los datos por los conjuntos más grandes, si no son iguales, se va aumentando la granularidad hasta el máximo posible en el test y el output"
   ]
  },
  {
   "cell_type": "markdown",
   "metadata": {},
   "source": [
    "Nos quedamos con el precio para investigar más, y de categórica elegimos en primera instancia la Marca"
   ]
  },
  {
   "cell_type": "code",
   "execution_count": null,
   "metadata": {},
   "outputs": [],
   "source": []
  },
  {
   "cell_type": "code",
   "execution_count": null,
   "metadata": {},
   "outputs": [],
   "source": []
  },
  {
   "cell_type": "markdown",
   "metadata": {},
   "source": [
    "Juntamos los dfs agrupados para buscar las marcas que no son iguales en ambos lados"
   ]
  },
  {
   "cell_type": "code",
   "execution_count": null,
   "metadata": {},
   "outputs": [],
   "source": []
  },
  {
   "cell_type": "markdown",
   "metadata": {},
   "source": [
    "Ya sabemos que dos marcas son distintas, ahora repetimos el proceso añadiendo otra columna al group by pero filtrando por Kia"
   ]
  },
  {
   "cell_type": "code",
   "execution_count": null,
   "metadata": {},
   "outputs": [],
   "source": []
  },
  {
   "cell_type": "code",
   "execution_count": null,
   "metadata": {},
   "outputs": [],
   "source": []
  },
  {
   "cell_type": "code",
   "execution_count": null,
   "metadata": {},
   "outputs": [],
   "source": []
  },
  {
   "cell_type": "markdown",
   "metadata": {},
   "source": [
    "Ya sabemos que el KIA Stonic nos está devolviendo diferencias, vamos a ver que lineas son esas en los dfs, cuantas hay y con esto podriamos entender la lógica del error en nuestro código para ver porqué esa diferencia existe"
   ]
  },
  {
   "cell_type": "code",
   "execution_count": null,
   "metadata": {},
   "outputs": [],
   "source": []
  },
  {
   "cell_type": "markdown",
   "metadata": {},
   "source": [
    "Todavia hay muchos registros asi que tendríamos que seguir iterando sobre otras columnas como el año , el tipo de combustible, etc... hasta encontrar los registros que nos están haciendo el lío y despues entender por qué nos lo están haciendo..."
   ]
  },
  {
   "cell_type": "code",
   "execution_count": null,
   "metadata": {},
   "outputs": [],
   "source": []
  },
  {
   "cell_type": "code",
   "execution_count": null,
   "metadata": {},
   "outputs": [],
   "source": []
  },
  {
   "cell_type": "code",
   "execution_count": null,
   "metadata": {},
   "outputs": [],
   "source": []
  },
  {
   "cell_type": "markdown",
   "metadata": {},
   "source": [
    "#### ¡Eureka!"
   ]
  },
  {
   "cell_type": "markdown",
   "metadata": {},
   "source": [
    "No sólo hemos encontrado la diferencia, sino que además es algo que NO habiamos visto de la otra manera, y es que si nos fijamos, hay una línea distinta, la 38702, pero es que además esa línea habia quedado enmascarada con el procedimiento de buscar las diferencias en el df completo por estar duplicada en el df de test, de forma que si existina en ambos dfs, solo que en el de la salida estaba una sóla vez."
   ]
  },
  {
   "cell_type": "markdown",
   "metadata": {},
   "source": [
    " "
   ]
  },
  {
   "cell_type": "markdown",
   "metadata": {},
   "source": [
    "## Ejercicio"
   ]
  },
  {
   "cell_type": "markdown",
   "metadata": {},
   "source": [
    "Comparar la hoja Test vs hoja Exercise para buscar las diferencias, sabemos que nuestro proceso saca valores que no estan siempre bien pero no sabemos porqué, ni cuale son, encuentra porqué y despues encuentra la lógica del error."
   ]
  },
  {
   "cell_type": "code",
   "execution_count": null,
   "metadata": {},
   "outputs": [],
   "source": []
  },
  {
   "cell_type": "code",
   "execution_count": null,
   "metadata": {},
   "outputs": [],
   "source": []
  },
  {
   "cell_type": "code",
   "execution_count": null,
   "metadata": {},
   "outputs": [],
   "source": []
  },
  {
   "cell_type": "code",
   "execution_count": null,
   "metadata": {},
   "outputs": [],
   "source": []
  },
  {
   "cell_type": "code",
   "execution_count": null,
   "metadata": {},
   "outputs": [],
   "source": []
  },
  {
   "cell_type": "code",
   "execution_count": null,
   "metadata": {},
   "outputs": [],
   "source": []
  },
  {
   "cell_type": "markdown",
   "metadata": {},
   "source": [
    "Ojo!, porque aqui ya vemos cosas raras, como que todos los que han cambiado tienen Tipo de combustible Híbridos Tipo de cambio manual."
   ]
  },
  {
   "cell_type": "code",
   "execution_count": null,
   "metadata": {},
   "outputs": [],
   "source": []
  },
  {
   "cell_type": "markdown",
   "metadata": {},
   "source": [
    " Nos da una pista, sin embargo aun se nos escapa algo porque ese filtro nos devovlería más lineas que las diferentes y además no entendemos todavia bien qué es lo que hace mal.\n",
    " \n",
    " Vamos a coger y buscar relacion entre las lineas modificadas y las originales para intentar encontrar que pasa en el cálculo"
   ]
  },
  {
   "cell_type": "code",
   "execution_count": null,
   "metadata": {},
   "outputs": [],
   "source": []
  },
  {
   "cell_type": "markdown",
   "metadata": {},
   "source": [
    "A veces existe una relation2 de 0,5 y a veces no, eso nos indica que los valores se están duplicando, pero además nos dice que no siempre. \n",
    "\n",
    "Esto está mal, sabrias decir porque no siempre es 0,5?"
   ]
  },
  {
   "cell_type": "markdown",
   "metadata": {},
   "source": [
    "Efectivamente!!, el problema es que hemos cruzado por todos los campos peero resulta que tenemos varios registros iguales con la misma conbinacion de campos , por lo que el cruce nos está devolviendo valores que no existen realmente, se produce un producto cartesiano parcial sin querer"
   ]
  },
  {
   "cell_type": "markdown",
   "metadata": {},
   "source": [
    "Vamos a hacer otra vez la diferencia pero sobre los campos agrupados para ver el total vs total"
   ]
  },
  {
   "cell_type": "code",
   "execution_count": null,
   "metadata": {},
   "outputs": [],
   "source": []
  },
  {
   "cell_type": "markdown",
   "metadata": {},
   "source": [
    "#### ¡Eureka!"
   ]
  },
  {
   "cell_type": "markdown",
   "metadata": {},
   "source": [
    "Todas las relaciones2 son 0,5, ahora sí!!!, ya hemos descubierto que estaba sucediendo, y es que duplica los valores de algunos registros!.\n",
    "\n",
    "Además, ya sabemos que esos registros son los hibridos manuales , pero aun os queda afinal algo más, proque son los hibridos manuales y algo más , vamos a ver si descubrimos que condiciones nos faltan por encontrar.\n",
    "\n",
    "Cogemos un modelo del df original y buscamos los que se han modificado y los que no , es la diferencia entre los que si y los que no la que nos va a dar la pista final"
   ]
  },
  {
   "cell_type": "code",
   "execution_count": null,
   "metadata": {},
   "outputs": [],
   "source": []
  },
  {
   "cell_type": "code",
   "execution_count": null,
   "metadata": {},
   "outputs": [],
   "source": []
  },
  {
   "cell_type": "markdown",
   "metadata": {},
   "source": [
    "Nos quedamos con los que son diferentes y buscamos la diferencia entre el lineas_diff_filtered vs lineas_original_filtered"
   ]
  },
  {
   "cell_type": "code",
   "execution_count": null,
   "metadata": {},
   "outputs": [],
   "source": []
  },
  {
   "cell_type": "markdown",
   "metadata": {},
   "source": [
    "Vemos que ni la marca, ni el modelo , ni el tipo de combustible, ni el año , ni el numero de puertas , ni el tipo de cambio nos estan afectando, eso solo nos deja el precio y los kilómetros. Y como el precio es lo que se ha modificado realmente, sólo puede ser algo que sucede en los kilómetros.\n",
    "\n",
    "¿Sabrías ver que es?"
   ]
  },
  {
   "cell_type": "markdown",
   "metadata": {},
   "source": [
    "#### Efectivamente!"
   ]
  },
  {
   "cell_type": "markdown",
   "metadata": {},
   "source": [
    "Las lineas que se modifican tienen kms pequeños o dicho de otro modo, las que no se modifican tienen valores más altos en la columna kms, vamos a recuperar los valores unitarios de esa columna de las lineas que se habian modificado y que en su momento nos pasó desapercibido:"
   ]
  },
  {
   "cell_type": "markdown",
   "metadata": {},
   "source": [
    " 'Kilómetros': array([ 350.,    6.,    1.,   10.,  300.,    0.,    5.,    7.,    2.,\n",
    "        1000.,    9.,   15.,   25.,   30.,   38.,    3.,   12.,   50.,\n",
    "         293.,   17.,    8.,    4.,   14.])"
   ]
  },
  {
   "cell_type": "markdown",
   "metadata": {},
   "source": [
    "Vemos que todos los valores están entre 1 y 1000, será esta la condicion?, vamos a aplicarle el filtro al df original otra vez vs el filtrado a ver si llegamos al mismo numero de lineas, esa puede ser una comprobación fácil y rápida"
   ]
  },
  {
   "cell_type": "code",
   "execution_count": null,
   "metadata": {},
   "outputs": [],
   "source": []
  },
  {
   "cell_type": "markdown",
   "metadata": {},
   "source": [
    "#### ¡Eureka!"
   ]
  },
  {
   "cell_type": "markdown",
   "metadata": {},
   "source": [
    "Ahora si hemos encontrado la respuesta a las dos primeras preguntas!, \n",
    "\n",
    "¿Qué está sucendiendo? --> Está duplicando el valor del precio \n",
    "¿Por qué está sucendiendo? --> Lo hace sólo en aquellas lineas de vehiculos manuales , hibridos y con menos de 1000 kms\n",
    "¿Dónde está sucediendo? --> Ahora con esta información ya podemos debugar el código buscando donde se producen los cálculos de la columna precio para resolverlo!."
   ]
  },
  {
   "cell_type": "markdown",
   "metadata": {},
   "source": [
    "Es posible que el error sea de parametrización, que ya veremos en un proximo capítulo o por un filtro mal hecho, un cruce no deseado, una coma donde no debe... hay mil motivos, pero lo importante es que hayas entendido que para que un producto sea industrializable y funcional en una empresa, los valores deben ser validados a conciencia, y si falla en algún momento, debemos ser capaces de sumergirnos hasta el fondo para encontrar el origen del problema.\n",
    "\n",
    "En nuestra experiencia profesional hemos visto decenas de programadores y data scientists que les gusta mucho programar pero luego no saben profundizar en los numeros para validar sus códigos... ERROR!, Un perfil completo debe ser capaz de resolverlo todo, de la A-z"
   ]
  }
 ],
 "metadata": {
  "kernelspec": {
   "display_name": "Python 3",
   "language": "python",
   "name": "python3"
  },
  "language_info": {
   "codemirror_mode": {
    "name": "ipython",
    "version": 3
   },
   "file_extension": ".py",
   "mimetype": "text/x-python",
   "name": "python",
   "nbconvert_exporter": "python",
   "pygments_lexer": "ipython3",
   "version": "3.8.5"
  }
 },
 "nbformat": 4,
 "nbformat_minor": 4
}
